{
 "cells": [
  {
   "cell_type": "code",
   "execution_count": 8,
   "metadata": {},
   "outputs": [],
   "source": [
    "import pandas as pd\n",
    "import numpy as np\n",
    "import tensorflow as tf\n",
    "import matplotlib.pyplot as plt\n",
    "%matplotlib inline\n",
    "\n",
    "from keras.models import Sequential \n",
    "from keras.layers import Dense\n",
    "from keras.wrappers.scikit_learn import KerasRegressor\n",
    "\n",
    "from sklearn.model_selection import train_test_split\n",
    "from sklearn.model_selection import cross_val_score\n",
    "from sklearn.model_selection import KFold\n",
    "from sklearn.preprocessing import StandardScaler\n",
    "\n",
    "from sklearn.ensemble import GradientBoostingRegressor\n",
    "from sklearn.metrics import mean_squared_error"
   ]
  },
  {
   "cell_type": "code",
   "execution_count": 2,
   "metadata": {},
   "outputs": [
    {
     "data": {
      "text/html": [
       "<div>\n",
       "<style scoped>\n",
       "    .dataframe tbody tr th:only-of-type {\n",
       "        vertical-align: middle;\n",
       "    }\n",
       "\n",
       "    .dataframe tbody tr th {\n",
       "        vertical-align: top;\n",
       "    }\n",
       "\n",
       "    .dataframe thead th {\n",
       "        text-align: right;\n",
       "    }\n",
       "</style>\n",
       "<table border=\"1\" class=\"dataframe\">\n",
       "  <thead>\n",
       "    <tr style=\"text-align: right;\">\n",
       "      <th></th>\n",
       "      <th>Unnamed: 0</th>\n",
       "      <th>Customer_ID</th>\n",
       "      <th>Total_Returns</th>\n",
       "      <th>Total_Orders</th>\n",
       "      <th>Total_Amount</th>\n",
       "      <th>Refund_Amount</th>\n",
       "      <th>Difference_in_days</th>\n",
       "      <th>Rating</th>\n",
       "      <th>Retained_Amount</th>\n",
       "      <th>Retained_Orders</th>\n",
       "      <th>Credit_Score</th>\n",
       "    </tr>\n",
       "  </thead>\n",
       "  <tbody>\n",
       "    <tr>\n",
       "      <th>0</th>\n",
       "      <td>0</td>\n",
       "      <td>9236000</td>\n",
       "      <td>3</td>\n",
       "      <td>8</td>\n",
       "      <td>2914</td>\n",
       "      <td>1113</td>\n",
       "      <td>5</td>\n",
       "      <td>3.366667</td>\n",
       "      <td>1801</td>\n",
       "      <td>5</td>\n",
       "      <td>491.734222</td>\n",
       "    </tr>\n",
       "    <tr>\n",
       "      <th>1</th>\n",
       "      <td>1</td>\n",
       "      <td>9236001</td>\n",
       "      <td>1</td>\n",
       "      <td>6</td>\n",
       "      <td>2012</td>\n",
       "      <td>289</td>\n",
       "      <td>1</td>\n",
       "      <td>4.500000</td>\n",
       "      <td>1723</td>\n",
       "      <td>5</td>\n",
       "      <td>590.648878</td>\n",
       "    </tr>\n",
       "    <tr>\n",
       "      <th>2</th>\n",
       "      <td>2</td>\n",
       "      <td>9236002</td>\n",
       "      <td>1</td>\n",
       "      <td>2</td>\n",
       "      <td>569</td>\n",
       "      <td>274</td>\n",
       "      <td>1</td>\n",
       "      <td>4.000000</td>\n",
       "      <td>295</td>\n",
       "      <td>1</td>\n",
       "      <td>469.631910</td>\n",
       "    </tr>\n",
       "    <tr>\n",
       "      <th>3</th>\n",
       "      <td>3</td>\n",
       "      <td>9236003</td>\n",
       "      <td>3</td>\n",
       "      <td>7</td>\n",
       "      <td>1713</td>\n",
       "      <td>910</td>\n",
       "      <td>2</td>\n",
       "      <td>3.600000</td>\n",
       "      <td>803</td>\n",
       "      <td>4</td>\n",
       "      <td>427.460634</td>\n",
       "    </tr>\n",
       "    <tr>\n",
       "      <th>4</th>\n",
       "      <td>4</td>\n",
       "      <td>9236004</td>\n",
       "      <td>3</td>\n",
       "      <td>4</td>\n",
       "      <td>1342</td>\n",
       "      <td>993</td>\n",
       "      <td>5</td>\n",
       "      <td>3.000000</td>\n",
       "      <td>349</td>\n",
       "      <td>1</td>\n",
       "      <td>371.931432</td>\n",
       "    </tr>\n",
       "  </tbody>\n",
       "</table>\n",
       "</div>"
      ],
      "text/plain": [
       "   Unnamed: 0  Customer_ID  Total_Returns  Total_Orders  Total_Amount  \\\n",
       "0           0      9236000              3             8          2914   \n",
       "1           1      9236001              1             6          2012   \n",
       "2           2      9236002              1             2           569   \n",
       "3           3      9236003              3             7          1713   \n",
       "4           4      9236004              3             4          1342   \n",
       "\n",
       "   Refund_Amount  Difference_in_days    Rating  Retained_Amount  \\\n",
       "0           1113                   5  3.366667             1801   \n",
       "1            289                   1  4.500000             1723   \n",
       "2            274                   1  4.000000              295   \n",
       "3            910                   2  3.600000              803   \n",
       "4            993                   5  3.000000              349   \n",
       "\n",
       "   Retained_Orders  Credit_Score  \n",
       "0                5    491.734222  \n",
       "1                5    590.648878  \n",
       "2                1    469.631910  \n",
       "3                4    427.460634  \n",
       "4                1    371.931432  "
      ]
     },
     "execution_count": 2,
     "metadata": {},
     "output_type": "execute_result"
    }
   ],
   "source": [
    "df = pd.read_excel('Main Dataset/Skewed dataset/Customer_Shopping_Details.xlsx')\n",
    "df.head()"
   ]
  },
  {
   "cell_type": "code",
   "execution_count": 3,
   "metadata": {},
   "outputs": [
    {
     "data": {
      "text/html": [
       "<div>\n",
       "<style scoped>\n",
       "    .dataframe tbody tr th:only-of-type {\n",
       "        vertical-align: middle;\n",
       "    }\n",
       "\n",
       "    .dataframe tbody tr th {\n",
       "        vertical-align: top;\n",
       "    }\n",
       "\n",
       "    .dataframe thead th {\n",
       "        text-align: right;\n",
       "    }\n",
       "</style>\n",
       "<table border=\"1\" class=\"dataframe\">\n",
       "  <thead>\n",
       "    <tr style=\"text-align: right;\">\n",
       "      <th></th>\n",
       "      <th>Customer_ID</th>\n",
       "      <th>Total_Returns</th>\n",
       "      <th>Total_Orders</th>\n",
       "      <th>Total_Amount</th>\n",
       "      <th>Refund_Amount</th>\n",
       "      <th>Difference_in_days</th>\n",
       "      <th>Rating</th>\n",
       "      <th>Retained_Amount</th>\n",
       "      <th>Retained_Orders</th>\n",
       "      <th>Credit_Score</th>\n",
       "    </tr>\n",
       "  </thead>\n",
       "  <tbody>\n",
       "    <tr>\n",
       "      <th>0</th>\n",
       "      <td>9236000</td>\n",
       "      <td>3</td>\n",
       "      <td>8</td>\n",
       "      <td>2914</td>\n",
       "      <td>1113</td>\n",
       "      <td>5</td>\n",
       "      <td>3.366667</td>\n",
       "      <td>1801</td>\n",
       "      <td>5</td>\n",
       "      <td>491.734222</td>\n",
       "    </tr>\n",
       "    <tr>\n",
       "      <th>1</th>\n",
       "      <td>9236001</td>\n",
       "      <td>1</td>\n",
       "      <td>6</td>\n",
       "      <td>2012</td>\n",
       "      <td>289</td>\n",
       "      <td>1</td>\n",
       "      <td>4.500000</td>\n",
       "      <td>1723</td>\n",
       "      <td>5</td>\n",
       "      <td>590.648878</td>\n",
       "    </tr>\n",
       "    <tr>\n",
       "      <th>2</th>\n",
       "      <td>9236002</td>\n",
       "      <td>1</td>\n",
       "      <td>2</td>\n",
       "      <td>569</td>\n",
       "      <td>274</td>\n",
       "      <td>1</td>\n",
       "      <td>4.000000</td>\n",
       "      <td>295</td>\n",
       "      <td>1</td>\n",
       "      <td>469.631910</td>\n",
       "    </tr>\n",
       "    <tr>\n",
       "      <th>3</th>\n",
       "      <td>9236003</td>\n",
       "      <td>3</td>\n",
       "      <td>7</td>\n",
       "      <td>1713</td>\n",
       "      <td>910</td>\n",
       "      <td>2</td>\n",
       "      <td>3.600000</td>\n",
       "      <td>803</td>\n",
       "      <td>4</td>\n",
       "      <td>427.460634</td>\n",
       "    </tr>\n",
       "    <tr>\n",
       "      <th>4</th>\n",
       "      <td>9236004</td>\n",
       "      <td>3</td>\n",
       "      <td>4</td>\n",
       "      <td>1342</td>\n",
       "      <td>993</td>\n",
       "      <td>5</td>\n",
       "      <td>3.000000</td>\n",
       "      <td>349</td>\n",
       "      <td>1</td>\n",
       "      <td>371.931432</td>\n",
       "    </tr>\n",
       "  </tbody>\n",
       "</table>\n",
       "</div>"
      ],
      "text/plain": [
       "   Customer_ID  Total_Returns  Total_Orders  Total_Amount  Refund_Amount  \\\n",
       "0      9236000              3             8          2914           1113   \n",
       "1      9236001              1             6          2012            289   \n",
       "2      9236002              1             2           569            274   \n",
       "3      9236003              3             7          1713            910   \n",
       "4      9236004              3             4          1342            993   \n",
       "\n",
       "   Difference_in_days    Rating  Retained_Amount  Retained_Orders  \\\n",
       "0                   5  3.366667             1801                5   \n",
       "1                   1  4.500000             1723                5   \n",
       "2                   1  4.000000              295                1   \n",
       "3                   2  3.600000              803                4   \n",
       "4                   5  3.000000              349                1   \n",
       "\n",
       "   Credit_Score  \n",
       "0    491.734222  \n",
       "1    590.648878  \n",
       "2    469.631910  \n",
       "3    427.460634  \n",
       "4    371.931432  "
      ]
     },
     "execution_count": 3,
     "metadata": {},
     "output_type": "execute_result"
    }
   ],
   "source": [
    "df = df.drop(['Unnamed: 0'], axis =1)\n",
    "df.head()"
   ]
  },
  {
   "cell_type": "code",
   "execution_count": 4,
   "metadata": {},
   "outputs": [
    {
     "data": {
      "text/plain": [
       "(array([[3.00000000e+00, 8.00000000e+00, 2.91400000e+03, ...,\n",
       "         3.36666667e+00, 1.80100000e+03, 5.00000000e+00],\n",
       "        [1.00000000e+00, 6.00000000e+00, 2.01200000e+03, ...,\n",
       "         4.50000000e+00, 1.72300000e+03, 5.00000000e+00],\n",
       "        [1.00000000e+00, 2.00000000e+00, 5.69000000e+02, ...,\n",
       "         4.00000000e+00, 2.95000000e+02, 1.00000000e+00],\n",
       "        ...,\n",
       "        [1.00000000e+00, 2.00000000e+00, 6.71000000e+02, ...,\n",
       "         2.30000000e+00, 3.52000000e+02, 1.00000000e+00],\n",
       "        [2.00000000e+00, 4.00000000e+00, 1.94300000e+03, ...,\n",
       "         2.90000000e+00, 6.09000000e+02, 2.00000000e+00],\n",
       "        [1.00000000e+00, 3.00000000e+00, 8.79000000e+02, ...,\n",
       "         2.50000000e+00, 6.63000000e+02, 2.00000000e+00]]),\n",
       " array([491.73422184, 590.64887755, 469.63190957, ..., 475.45061955,\n",
       "        427.97607682, 505.35976547]))"
      ]
     },
     "execution_count": 4,
     "metadata": {},
     "output_type": "execute_result"
    }
   ],
   "source": [
    "dataset = df.values\n",
    "X = dataset[:,1:9]\n",
    "Y = dataset[:,9]\n",
    "X,Y"
   ]
  },
  {
   "cell_type": "code",
   "execution_count": 5,
   "metadata": {},
   "outputs": [
    {
     "data": {
      "text/plain": [
       "(array([[3.00000000e+00, 8.00000000e+00, 2.91400000e+03, ...,\n",
       "         3.36666667e+00, 1.80100000e+03, 5.00000000e+00],\n",
       "        [1.00000000e+00, 6.00000000e+00, 2.01200000e+03, ...,\n",
       "         4.50000000e+00, 1.72300000e+03, 5.00000000e+00],\n",
       "        [1.00000000e+00, 2.00000000e+00, 5.69000000e+02, ...,\n",
       "         4.00000000e+00, 2.95000000e+02, 1.00000000e+00],\n",
       "        ...,\n",
       "        [1.00000000e+00, 2.00000000e+00, 6.71000000e+02, ...,\n",
       "         2.30000000e+00, 3.52000000e+02, 1.00000000e+00],\n",
       "        [2.00000000e+00, 4.00000000e+00, 1.94300000e+03, ...,\n",
       "         2.90000000e+00, 6.09000000e+02, 2.00000000e+00],\n",
       "        [1.00000000e+00, 3.00000000e+00, 8.79000000e+02, ...,\n",
       "         2.50000000e+00, 6.63000000e+02, 2.00000000e+00]]),\n",
       " array([491.73422184, 590.64887755, 469.63190957, ..., 475.45061955,\n",
       "        427.97607682, 505.35976547]))"
      ]
     },
     "execution_count": 5,
     "metadata": {},
     "output_type": "execute_result"
    }
   ],
   "source": [
    "X = dataset[:,1:9]\n",
    "Y = dataset[:,9]\n",
    "X,Y"
   ]
  },
  {
   "cell_type": "code",
   "execution_count": 6,
   "metadata": {},
   "outputs": [
    {
     "name": "stdout",
     "output_type": "stream",
     "text": [
      "(3175, 8) (794, 8) (3175,) (794,)\n"
     ]
    }
   ],
   "source": [
    "X_train, X_test, Y_train, Y_test = train_test_split (X, Y, test_size = 0.20, random_state=42)\n",
    "print(X_train.shape, X_test.shape, Y_train.shape, Y_test.shape)"
   ]
  },
  {
   "cell_type": "code",
   "execution_count": 12,
   "metadata": {},
   "outputs": [
    {
     "name": "stdout",
     "output_type": "stream",
     "text": [
      "10.501864352473028\n"
     ]
    }
   ],
   "source": [
    "#GradientBoostingRegressor\n",
    "\n",
    "scaler = StandardScaler().fit(X_train)\n",
    "# rescaled_X_train = scaler.transform(X_train)\n",
    "model = GradientBoostingRegressor(random_state=21, n_estimators=400)\n",
    "model.fit(X_train, Y_train)\n",
    "# hist = model.fit(X_train, Y_train,\n",
    "#                  batch_size=32, epochs=100,\n",
    "#                  validation_data=(X_test, Y_test))\n",
    "\n",
    "# transform the validation dataset\n",
    "# rescaled_X_test = scaler.transform(X_test)\n",
    "predictions = model.predict(X_test)\n",
    "\n",
    "#creating pickle file\n",
    "# pickle.dump(model, open('final_prediction.pickle', 'wb'))\n",
    "\n",
    "#working directory\n",
    "# joblib_file = \"best_model.pkl\"   \n",
    "# joblib.dump(model, joblib_file)\n",
    "\n",
    "print (mean_squared_error(Y_test, predictions))"
   ]
  },
  {
   "cell_type": "code",
   "execution_count": 13,
   "metadata": {},
   "outputs": [
    {
     "data": {
      "text/html": [
       "<div>\n",
       "<style scoped>\n",
       "    .dataframe tbody tr th:only-of-type {\n",
       "        vertical-align: middle;\n",
       "    }\n",
       "\n",
       "    .dataframe tbody tr th {\n",
       "        vertical-align: top;\n",
       "    }\n",
       "\n",
       "    .dataframe thead th {\n",
       "        text-align: right;\n",
       "    }\n",
       "</style>\n",
       "<table border=\"1\" class=\"dataframe\">\n",
       "  <thead>\n",
       "    <tr style=\"text-align: right;\">\n",
       "      <th></th>\n",
       "      <th>Prediction</th>\n",
       "      <th>Test Data</th>\n",
       "    </tr>\n",
       "  </thead>\n",
       "  <tbody>\n",
       "    <tr>\n",
       "      <th>0</th>\n",
       "      <td>485.827793</td>\n",
       "      <td>482.425851</td>\n",
       "    </tr>\n",
       "    <tr>\n",
       "      <th>1</th>\n",
       "      <td>637.578657</td>\n",
       "      <td>634.597576</td>\n",
       "    </tr>\n",
       "    <tr>\n",
       "      <th>2</th>\n",
       "      <td>446.767023</td>\n",
       "      <td>447.235921</td>\n",
       "    </tr>\n",
       "    <tr>\n",
       "      <th>3</th>\n",
       "      <td>587.332253</td>\n",
       "      <td>583.856336</td>\n",
       "    </tr>\n",
       "    <tr>\n",
       "      <th>4</th>\n",
       "      <td>568.864081</td>\n",
       "      <td>565.318306</td>\n",
       "    </tr>\n",
       "    <tr>\n",
       "      <th>5</th>\n",
       "      <td>495.709555</td>\n",
       "      <td>493.333753</td>\n",
       "    </tr>\n",
       "    <tr>\n",
       "      <th>6</th>\n",
       "      <td>443.807910</td>\n",
       "      <td>443.281558</td>\n",
       "    </tr>\n",
       "    <tr>\n",
       "      <th>7</th>\n",
       "      <td>430.885745</td>\n",
       "      <td>430.430220</td>\n",
       "    </tr>\n",
       "    <tr>\n",
       "      <th>8</th>\n",
       "      <td>459.787444</td>\n",
       "      <td>459.093398</td>\n",
       "    </tr>\n",
       "    <tr>\n",
       "      <th>9</th>\n",
       "      <td>403.042598</td>\n",
       "      <td>401.133383</td>\n",
       "    </tr>\n",
       "  </tbody>\n",
       "</table>\n",
       "</div>"
      ],
      "text/plain": [
       "   Prediction   Test Data\n",
       "0  485.827793  482.425851\n",
       "1  637.578657  634.597576\n",
       "2  446.767023  447.235921\n",
       "3  587.332253  583.856336\n",
       "4  568.864081  565.318306\n",
       "5  495.709555  493.333753\n",
       "6  443.807910  443.281558\n",
       "7  430.885745  430.430220\n",
       "8  459.787444  459.093398\n",
       "9  403.042598  401.133383"
      ]
     },
     "execution_count": 13,
     "metadata": {},
     "output_type": "execute_result"
    }
   ],
   "source": [
    "#Comparing Test data with Actual Dataset\n",
    "\n",
    "compare = pd.DataFrame({'Prediction': predictions, 'Test Data' : Y_test})\n",
    "compare.head(10)"
   ]
  },
  {
   "cell_type": "code",
   "execution_count": 11,
   "metadata": {},
   "outputs": [
    {
     "data": {
      "image/png": "[encoded data removed]",
      "text/plain": [
       "<Figure size 432x288 with 1 Axes>"
      ]
     },
     "metadata": {
      "needs_background": "light"
     },
     "output_type": "display_data"
    }
   ],
   "source": [
    "# plotting graph for GradientBoostingRegressor.\n",
    "plt.style.use('seaborn-colorblind')\n",
    "plt.plot(compare['Test Data'].head(25), color = \"green\")\n",
    "plt.plot(compare['Prediction'].head(25), color = \"red\")\n",
    "plt.title(\"Test Vs Prediction\")\n",
    "# plt.xlabel(\"\")\n",
    "plt.ylabel(\"Range of Credit Score\")\n",
    "plt.show()"
   ]
  },
  {
   "cell_type": "code",
   "execution_count": 29,
   "metadata": {},
   "outputs": [
    {
     "data": {
      "text/plain": [
       "Index(['Customer_ID', 'Total_Returns', 'Total_Orders', 'Total_Amount',\n",
       "       'Refund_Amount', 'Difference_in_days', 'Rating', 'Retained_Amount',\n",
       "       'Retained_Orders', 'Credit_Score'],\n",
       "      dtype='object')"
      ]
     },
     "execution_count": 29,
     "metadata": {},
     "output_type": "execute_result"
    }
   ],
   "source": [
    "# Parameters = df.columns"
   ]
  },
  {
   "cell_type": "code",
   "execution_count": 31,
   "metadata": {},
   "outputs": [
    {
     "name": "stdout",
     "output_type": "stream",
     "text": [
      "Credit Score 875.1207875281443\n",
      "So it was a good customer...\n",
      "\n",
      "Credit Score 611.2187156934469\n",
      "So it was a average customer...\n",
      "\n",
      "Credit Score 349.87762471742764\n",
      "So it was a bad customer...\n"
     ]
    }
   ],
   "source": [
    "#Tests\n",
    "\n",
    "#Test1\n",
    "values = [[1,12, 8050, 250, 2, 2.33, 7050, 11 ]]\n",
    "pr = model.predict(values)\n",
    "print('Credit Score',*pr)\n",
    "print('So it was a good customer...\\n')\n",
    "\n",
    "#Test2\n",
    "values = [[3,12, 8050, 2000, 5, 4.33, 6050, 9 ]]\n",
    "pr = model.predict(values)\n",
    "print('Credit Score',*pr)\n",
    "print('So it was a average customer...\\n')\n",
    "\n",
    "#Test3\n",
    "values = [[6,12, 8050, 4000, 8, 2.33, 4050, 6 ]]\n",
    "pr = model.predict(values)\n",
    "print('Credit Score',*pr)\n",
    "print('So it was a bad customer...')"
   ]
  },
  {
   "cell_type": "code",
   "execution_count": 13,
   "metadata": {
    "scrolled": true
   },
   "outputs": [
    {
     "name": "stdout",
     "output_type": "stream",
     "text": [
      "Results: -258955.89 (3992.49) MSE\n"
     ]
    }
   ],
   "source": [
    "# Neural Network Regressor\n",
    "# define base model\n",
    "\n",
    "# def baseline_model():\n",
    "#     model = Sequential()\n",
    "#     model.add(Dense(8, input_dim=8, activation='relu'))\n",
    "#     model.add(Dense(1))\n",
    "#     model.compile(loss='mean_squared_error', optimizer='adam')\n",
    "#     return model\n",
    "\n",
    "\n",
    "# estimator = KerasRegressor(build_fn=baseline_model, nb_epoch=100, batch_size=100, verbose=0.2)\n",
    "# kfold = KFold(n_splits=10)\n",
    "# results = cross_val_score(estimator, X_train, Y_train, cv=kfold)\n",
    "# print(\"Results: %.2f (%.2f) MSE\" % (results.mean(), results.std()))\n",
    "\n",
    "# estimator.fit(X_train, Y_train)\n",
    "# prediction = estimator.predict(X_test)\n",
    "# print(prediction)\n"
   ]
  },
  {
   "cell_type": "code",
   "execution_count": 14,
   "metadata": {},
   "outputs": [
    {
     "data": {
      "text/html": [
       "<div>\n",
       "<style scoped>\n",
       "    .dataframe tbody tr th:only-of-type {\n",
       "        vertical-align: middle;\n",
       "    }\n",
       "\n",
       "    .dataframe tbody tr th {\n",
       "        vertical-align: top;\n",
       "    }\n",
       "\n",
       "    .dataframe thead th {\n",
       "        text-align: right;\n",
       "    }\n",
       "</style>\n",
       "<table border=\"1\" class=\"dataframe\">\n",
       "  <thead>\n",
       "    <tr style=\"text-align: right;\">\n",
       "      <th></th>\n",
       "      <th>Prediction</th>\n",
       "      <th>Test Data</th>\n",
       "    </tr>\n",
       "  </thead>\n",
       "  <tbody>\n",
       "    <tr>\n",
       "      <th>0</th>\n",
       "      <td>485.827793</td>\n",
       "      <td>482.425851</td>\n",
       "    </tr>\n",
       "    <tr>\n",
       "      <th>1</th>\n",
       "      <td>637.578657</td>\n",
       "      <td>634.597576</td>\n",
       "    </tr>\n",
       "    <tr>\n",
       "      <th>2</th>\n",
       "      <td>446.767023</td>\n",
       "      <td>447.235921</td>\n",
       "    </tr>\n",
       "    <tr>\n",
       "      <th>3</th>\n",
       "      <td>587.332253</td>\n",
       "      <td>583.856336</td>\n",
       "    </tr>\n",
       "    <tr>\n",
       "      <th>4</th>\n",
       "      <td>568.864081</td>\n",
       "      <td>565.318306</td>\n",
       "    </tr>\n",
       "    <tr>\n",
       "      <th>5</th>\n",
       "      <td>495.709555</td>\n",
       "      <td>493.333753</td>\n",
       "    </tr>\n",
       "    <tr>\n",
       "      <th>6</th>\n",
       "      <td>443.807910</td>\n",
       "      <td>443.281558</td>\n",
       "    </tr>\n",
       "    <tr>\n",
       "      <th>7</th>\n",
       "      <td>430.885745</td>\n",
       "      <td>430.430220</td>\n",
       "    </tr>\n",
       "    <tr>\n",
       "      <th>8</th>\n",
       "      <td>459.787444</td>\n",
       "      <td>459.093398</td>\n",
       "    </tr>\n",
       "    <tr>\n",
       "      <th>9</th>\n",
       "      <td>403.042598</td>\n",
       "      <td>401.133383</td>\n",
       "    </tr>\n",
       "  </tbody>\n",
       "</table>\n",
       "</div>"
      ],
      "text/plain": [
       "   Prediction   Test Data\n",
       "0  485.827793  482.425851\n",
       "1  637.578657  634.597576\n",
       "2  446.767023  447.235921\n",
       "3  587.332253  583.856336\n",
       "4  568.864081  565.318306\n",
       "5  495.709555  493.333753\n",
       "6  443.807910  443.281558\n",
       "7  430.885745  430.430220\n",
       "8  459.787444  459.093398\n",
       "9  403.042598  401.133383"
      ]
     },
     "execution_count": 14,
     "metadata": {},
     "output_type": "execute_result"
    }
   ],
   "source": [
    "#Comparing Test data with Actual Dataset\n",
    "\n",
    "# compare = pd.DataFrame({'Prediction': predictions, 'Test Data' : Y_test})\n",
    "# compare.head(10)"
   ]
  },
  {
   "cell_type": "code",
   "execution_count": 15,
   "metadata": {},
   "outputs": [
    {
     "data": {
      "image/png": "[encoded data removed]",
      "text/plain": [
       "<Figure size 432x288 with 1 Axes>"
      ]
     },
     "metadata": {
      "needs_background": "light"
     },
     "output_type": "display_data"
    }
   ],
   "source": [
    "# plotting graph for Neural Network regressor.\n",
    "# plt.style.use('seaborn-colorblind')\n",
    "# plt.plot(compare['Test Data'].head(50), color = \"green\")\n",
    "# plt.plot(compare['Prediction'].head(50), color = \"red\")\n",
    "# plt.title(\"Test Vs Prediction\")\n",
    "# # plt.xlabel(\"\")\n",
    "# plt.ylabel(\"Range of Credit Score\")\n",
    "# plt.show()"
   ]
  },
  {
   "cell_type": "code",
   "execution_count": null,
   "metadata": {},
   "outputs": [],
   "source": [
    "# plt.bar(compare['Test Data'].head(50))"
   ]
  }
 ],
 "metadata": {
  "kernelspec": {
   "display_name": "Python 3",
   "language": "python",
   "name": "python3"
  },
  "language_info": {
   "codemirror_mode": {
    "name": "ipython",
    "version": 3
   },
   "file_extension": ".py",
   "mimetype": "text/x-python",
   "name": "python",
   "nbconvert_exporter": "python",
   "pygments_lexer": "ipython3",
   "version": "3.7.6"
  }
 },
 "nbformat": 4,
 "nbformat_minor": 4
}
